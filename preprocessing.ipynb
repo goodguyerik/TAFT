{
 "cells": [
  {
   "cell_type": "code",
   "execution_count": null,
   "metadata": {
    "tags": []
   },
   "outputs": [],
   "source": [
    "#download zips\n",
    "!wget -P /root/data/ZIPs/ \"https://zenodo.org/record/6517052/files/abstraction_tables_licensed.zip\" \"https://zenodo.org/record/6517052/files/allegro_con_spirito_tables_licensed.zip\" \"https://zenodo.org/record/6517052/files/attrition_rate_tables_licensed.zip\" \"https://zenodo.org/record/6517052/files/beats_per_minute_tables_licensed.zip\" \"https://zenodo.org/record/6517052/files/beauty_sleep_tables_licensed.zip\" \"https://zenodo.org/record/6517052/files/bits_per_second_tables_licensed.zip\" \"https://zenodo.org/record/6517052/files/cardiac_output_tables_licensed.zip\" \"https://zenodo.org/record/6517052/files/cease_tables_licensed.zip\" \"https://zenodo.org/record/6517052/files/centripetal_acceleration_tables_licensed.zip\" \"https://zenodo.org/record/6517052/files/channel_capacity_tables_licensed.zip\" \"https://zenodo.org/record/6517052/files/clotting_time_tables_licensed.zip\" \"https://zenodo.org/record/6517052/files/command_processing_overhead_time_tables_licensed.zip\" \"https://zenodo.org/record/6517052/files/count_per_minute_tables_licensed.zip\" \"https://zenodo.org/record/6517052/files/crime_rate_tables_licensed.zip\" \"https://zenodo.org/record/6517052/files/data_rate_tables_licensed.zip\" \"https://zenodo.org/record/6517052/files/dead_air_tables_licensed.zip\" \"https://zenodo.org/record/6517052/files/dogwatch_tables_licensed.zip\" \"https://zenodo.org/record/6517052/files/dose_rate_tables_licensed.zip\" \"https://zenodo.org/record/6517052/files/dwarf_tables_licensed.zip\" \"https://zenodo.org/record/6517052/files/entr%27acte_tables_licensed.zip\" \"https://zenodo.org/record/6517052/files/episcopate_tables_licensed.zip\" \"https://zenodo.org/record/6517052/files/erythrocyte_sedimentation_rate_tables_licensed.zip\" \"https://zenodo.org/record/6517052/files/escape_velocity_tables_licensed.zip\" \"https://zenodo.org/record/6517052/files/fertile_period_tables_licensed.zip\" \"https://zenodo.org/record/6517052/files/graveyard_watch_tables_licensed.zip\" \"https://zenodo.org/record/6517052/files/growth_rate_tables_licensed.zip\" \"https://zenodo.org/record/6517052/files/half_life_tables_licensed.zip\" \"https://zenodo.org/record/6517052/files/halftime_tables_licensed.zip\" \"https://zenodo.org/record/6517052/files/heterotroph_tables_licensed.zip\" \"https://zenodo.org/record/6517052/files/hypervelocity_tables_licensed.zip\" \"https://zenodo.org/record/6517052/files/id_tables_licensed.zip\" \"https://zenodo.org/record/6517052/files/incubation_period_tables_licensed.zip\" \"https://zenodo.org/record/6517052/files/indiction_tables_licensed.zip\" \"https://zenodo.org/record/6517052/files/inflation_rate_tables_licensed.zip\" \"https://zenodo.org/record/6517052/files/interim_tables_licensed.zip\" \"https://zenodo.org/record/6517052/files/in_time_tables_licensed.zip\" \"https://zenodo.org/record/6517052/files/kilohertz_tables_licensed.zip\" \"https://zenodo.org/record/6517052/files/kilometers_per_hour_tables_licensed.zip\" \"https://zenodo.org/record/6517052/files/lapse_tables_licensed.zip\" \"https://zenodo.org/record/6517052/files/last_gasp_tables_licensed.zip\" \"https://zenodo.org/record/6517052/files/latent_period_tables_licensed.zip\" \"https://zenodo.org/record/6517052/files/lead_time_tables_licensed.zip\" \"https://zenodo.org/record/6517052/files/living_thing_tables_licensed.zip\" \"https://zenodo.org/record/6517052/files/lunitidal_interval_tables_licensed.zip\" \"https://zenodo.org/record/6517052/files/meno_mosso_tables_licensed.zip\" \"https://zenodo.org/record/6517052/files/menstrual_cycle_tables_licensed.zip\" \"https://zenodo.org/record/6517052/files/metabolic_rate_tables_licensed.zip\" \"https://zenodo.org/record/6517052/files/miles_per_hour_tables_licensed.zip\" \"https://zenodo.org/record/6517052/files/multistage_tables_licensed.zip\" \"https://zenodo.org/record/6517052/files/musth_tables_licensed.zip\" \"https://zenodo.org/record/6517052/files/neonatal_mortality_tables_licensed.zip\" \"https://zenodo.org/record/6517052/files/object_tables_licensed.zip\" \"https://zenodo.org/record/6517052/files/orbit_period_tables_licensed.zip\" \"https://zenodo.org/record/6517052/files/organism_tables_licensed.zip\" \"https://zenodo.org/record/6517052/files/parent_tables_licensed.zip\" \"https://zenodo.org/record/6517052/files/peacetime_tables_licensed.zip\" \"https://zenodo.org/record/6517052/files/peculiar_velocity_tables_licensed.zip\" \"https://zenodo.org/record/6517052/files/physical_entity_tables_licensed.zip\" \"https://zenodo.org/record/6517052/files/processing_time_tables_licensed.zip\" \"https://zenodo.org/record/6517052/files/question_time_tables_licensed.zip\" \"https://zenodo.org/record/6517052/files/quick_time_tables_licensed.zip\" \"https://zenodo.org/record/6517052/files/radial_pulse_tables_licensed.zip\" \"https://zenodo.org/record/6517052/files/radial_velocity_tables_licensed.zip\" \"https://zenodo.org/record/6517052/files/rainy_day_tables_licensed.zip\" \"https://zenodo.org/record/6517052/files/rate_of_return_tables_licensed.zip\" \"https://zenodo.org/record/6517052/files/reaction_time_tables_licensed.zip\" \"https://zenodo.org/record/6517052/files/real_time_tables_licensed.zip\" \"https://zenodo.org/record/6517052/files/relaxation_time_tables_licensed.zip\" \"https://zenodo.org/record/6517052/files/respiratory_rate_tables_licensed.zip\" \"https://zenodo.org/record/6517052/files/return_on_invested_capital_tables_licensed.zip\" \"https://zenodo.org/record/6517052/files/revolutions_per_minute_tables_licensed.zip\" \"https://zenodo.org/record/6517052/files/rotational_latency_tables_licensed.zip\" \"https://zenodo.org/record/6517052/files/running_time_tables_licensed.zip\" \"https://zenodo.org/record/6517052/files/safe_period_tables_licensed.zip\" \"https://zenodo.org/record/6517052/files/sampling_frequency_tables_licensed.zip\" \"https://zenodo.org/record/6517052/files/sampling_rate_tables_licensed.zip\" \"https://zenodo.org/record/6517052/files/secretory_phase_tables_licensed.zip\" \"https://zenodo.org/record/6517052/files/seek_time_tables_licensed.zip\" \"https://zenodo.org/record/6517052/files/shiva_tables_licensed.zip\" \"https://zenodo.org/record/6517052/files/show_time_tables_licensed.zip\" \"https://zenodo.org/record/6517052/files/solar_constant_tables_licensed.zip\" \"https://zenodo.org/record/6517052/files/speed_of_light_tables_licensed.zip\" \"https://zenodo.org/record/6517052/files/split_shift_tables_licensed.zip\" \"https://zenodo.org/record/6517052/files/steerageway_tables_licensed.zip\" \"https://zenodo.org/record/6517052/files/stopping_point_tables_licensed.zip\" \"https://zenodo.org/record/6517052/files/terminal_velocity_tables_licensed.zip\" \"https://zenodo.org/record/6517052/files/terminus_ad_quem_tables_licensed.zip\" \"https://zenodo.org/record/6517052/files/then_tables_licensed.zip\" \"https://zenodo.org/record/6517052/files/thing_tables_licensed.zip\" \"https://zenodo.org/record/6517052/files/time_interval_tables_licensed.zip\" \"https://zenodo.org/record/6517052/files/time-out_tables_licensed.zip\" \"https://zenodo.org/record/6517052/files/time_slot_tables_licensed.zip\" \"https://zenodo.org/record/6517052/files/track-to-track_seek_time_tables_licensed.zip\" \"https://zenodo.org/record/6517052/files/usance_tables_licensed.zip\" \"https://zenodo.org/record/6517052/files/wartime_tables_licensed.zip\" \"https://zenodo.org/record/6517052/files/whole_tables_licensed.zip\""
   ]
  },
  {
   "cell_type": "code",
   "execution_count": null,
   "metadata": {
    "tags": []
   },
   "outputs": [],
   "source": [
    "#extract zips\n",
    "import zipfile\n",
    "import glob\n",
    "\n",
    "dataPath = ''\n",
    "zips = glob.glob(f'{dataPath}gitTables/ZIPs/*.zip')\n",
    "\n",
    "for zip_ in zips:\n",
    "    fileName = zip_.split('/')[-1][:-4]\n",
    "    extractTo = f'{dataPath}gitTables/Parquets/{fileName}/'\n",
    "    zipfile.ZipFile(zip_).extractall(extractTo)"
   ]
  },
  {
   "cell_type": "code",
   "execution_count": null,
   "metadata": {},
   "outputs": [],
   "source": [
    "#read and preprocess tables\n",
    "from tqdm import tqdm\n",
    "import pandas as pd\n",
    "\n",
    "files = glob.glob(f'{dataPath}gitTables/Parquets/*/*.parquet')\n",
    "sampleNum = 100\n",
    "columns = []\n",
    "\n",
    "fails = 0\n",
    "for file in tqdm(files):\n",
    "    try:\n",
    "        df = pd.read_parquet(file)\n",
    "        if(len(df) > sampleNum):\n",
    "            df = df.sample(n = sampleNum) #select 15 random rows if available\n",
    "            df = df.reset_index(drop=True)\n",
    "        fileName = file.split('/')[-2] + '/' + file.split('/')[-1]\n",
    "        index = 0\n",
    "        for columnName in df.columns:\n",
    "            rows = list(df[columnName])\n",
    "            rows = [int(x) if isinstance(x, float) and x.is_integer() else x for x in rows]\n",
    "            rows += ['nan'] * (sampleNum - len(rows))\n",
    "            columns.append([fileName, index, columnName, *rows])\n",
    "            index += 1\n",
    "    except:\n",
    "        fails += 1 #a total of 17 errors occurred"
   ]
  },
  {
   "cell_type": "code",
   "execution_count": null,
   "metadata": {},
   "outputs": [],
   "source": [
    "#store preprocessed \n",
    "columns = ['fileName', 'index', 'columnName'] + [f'row{i}' for i in range(100)]\n",
    "df = pd.DataFrame (columns, columns = columns)\n",
    "df = df.astype(str)\n",
    "df.to_parquet(f'{dataPath}gitTables/gitTables.parquet', engine='pyarrow')"
   ]
  }
 ],
 "metadata": {
  "kernelspec": {
   "display_name": "Python 3 (Scientific)",
   "language": "python",
   "name": "scipy"
  },
  "language_info": {
   "codemirror_mode": {
    "name": "ipython",
    "version": 3
   },
   "file_extension": ".py",
   "mimetype": "text/x-python",
   "name": "python",
   "nbconvert_exporter": "python",
   "pygments_lexer": "ipython3",
   "version": "3.10.4"
  }
 },
 "nbformat": 4,
 "nbformat_minor": 4
}
