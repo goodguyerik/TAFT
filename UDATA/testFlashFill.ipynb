{
 "cells": [
  {
   "cell_type": "code",
   "execution_count": 5,
   "metadata": {},
   "outputs": [],
   "source": [
    "import os \n",
    "import glob\n",
    "import main\n",
    "import numpy as np\n",
    "import pandas as pd\n",
    "from tqdm import tqdm\n",
    "\n",
    "dataPath = ''\n",
    "fuzzyGenerators = glob.glob(f'{dataPath}fuzzyGenerators/*.py')\n",
    "types = [os.path.splitext(os.path.basename(fuzzyGenerator))[0] for fuzzyGenerator in fuzzyGenerators]\n",
    "\n",
    "dfs = {}\n",
    "for type in types:\n",
    "    df = pd.read_parquet(f'{dataPath}data/Correction/test/{type}.parquet')\n",
    "    dfs[type] = df"
   ]
  },
  {
   "cell_type": "code",
   "execution_count": 11,
   "metadata": {},
   "outputs": [],
   "source": [
    "def createFile(type):\n",
    "    df = dfs[type]\n",
    "    for idx, _ in tqdm(df.iterrows()):\n",
    "        input = df['input'][idx]\n",
    "        format, inputValues = input.split(' reshape: ')\n",
    "        inputValues = inputValues.split(' [ROW] ')\n",
    "        output = df['output'][idx]\n",
    "        target = output.split(' [ROW] ')\n",
    "        temp =  []\n",
    "        temp.append(target[0])\n",
    "        for i in range(len(target) -  1):\n",
    "            temp.append(np.nan)\n",
    "        df_ = pd.DataFrame(zip(inputValues, temp), columns=['input', 'output'])\n",
    "        df_.to_excel(f'{dataPath}data/Correction/test/flashfill/{type}_{idx}.xlsx')"
   ]
  },
  {
   "cell_type": "code",
   "execution_count": 6,
   "metadata": {},
   "outputs": [],
   "source": [
    "def checkResults(type):\n",
    "    correct = 0\n",
    "    incorrect = 0\n",
    "    df = dfs[type]\n",
    "    for idx, _ in tqdm(df.iterrows()):\n",
    "        input = df['input'][idx]\n",
    "        format, inputValues = input.split(' reshape: ')\n",
    "        inputValues = inputValues.split(' [ROW] ')\n",
    "        output = df['output'][idx]\n",
    "        target = output.split(' [ROW] ')\n",
    "        temp = pd.read_excel(f'{dataPath}data/Correction/test/flashfillResults/{type}_{idx}.xlsx', keep_default_na = False, dtype=str)\n",
    "        if list(temp.input) == inputValues:\n",
    "            if list(temp.output) == target:\n",
    "                correct += 1\n",
    "            else:\n",
    "                incorrect += 1\n",
    "                #print('-----target------')\n",
    "                #print(target)\n",
    "                #print('-----flashfill----')\n",
    "                #print(list(temp.output))\n",
    "        else: \n",
    "            print(f'fail: {type} {idx}')\n",
    "    return correct, incorrect"
   ]
  },
  {
   "cell_type": "code",
   "execution_count": 12,
   "metadata": {
    "scrolled": true
   },
   "outputs": [
    {
     "name": "stderr",
     "output_type": "stream",
     "text": [
      "1000it [00:10, 95.86it/s]\n",
      "1000it [00:09, 105.74it/s]\n",
      "1000it [00:10, 95.49it/s]\n",
      "1000it [00:09, 110.62it/s]\n",
      "1000it [00:12, 78.77it/s]\n",
      "1000it [00:10, 98.08it/s]\n",
      "1000it [00:12, 79.76it/s]\n",
      "1000it [00:12, 80.58it/s]\n"
     ]
    }
   ],
   "source": [
    "for type in types:\n",
    "    createFile(type)"
   ]
  },
  {
   "cell_type": "code",
   "execution_count": 7,
   "metadata": {},
   "outputs": [
    {
     "name": "stdout",
     "output_type": "stream",
     "text": [
      "Name\n"
     ]
    },
    {
     "name": "stderr",
     "output_type": "stream",
     "text": [
      "1000it [00:08, 124.10it/s]\n"
     ]
    },
    {
     "name": "stdout",
     "output_type": "stream",
     "text": [
      "(928, 72)\n",
      "Phone\n"
     ]
    },
    {
     "name": "stderr",
     "output_type": "stream",
     "text": [
      "1000it [00:08, 117.58it/s]\n"
     ]
    },
    {
     "name": "stdout",
     "output_type": "stream",
     "text": [
      "(575, 425)\n",
      "Unit\n"
     ]
    },
    {
     "name": "stderr",
     "output_type": "stream",
     "text": [
      "1000it [00:08, 123.08it/s]\n"
     ]
    },
    {
     "name": "stdout",
     "output_type": "stream",
     "text": [
      "(474, 526)\n",
      "Address\n"
     ]
    },
    {
     "name": "stderr",
     "output_type": "stream",
     "text": [
      "1000it [00:07, 132.10it/s]\n"
     ]
    },
    {
     "name": "stdout",
     "output_type": "stream",
     "text": [
      "(508, 492)\n",
      "Sex\n"
     ]
    },
    {
     "name": "stderr",
     "output_type": "stream",
     "text": [
      "1000it [00:08, 115.38it/s]\n"
     ]
    },
    {
     "name": "stdout",
     "output_type": "stream",
     "text": [
      "(432, 568)\n",
      "Date\n"
     ]
    },
    {
     "name": "stderr",
     "output_type": "stream",
     "text": [
      "1000it [00:07, 132.96it/s]\n"
     ]
    },
    {
     "name": "stdout",
     "output_type": "stream",
     "text": [
      "(158, 842)\n",
      "Country\n"
     ]
    },
    {
     "name": "stderr",
     "output_type": "stream",
     "text": [
      "1000it [00:09, 109.26it/s]\n"
     ]
    },
    {
     "name": "stdout",
     "output_type": "stream",
     "text": [
      "(253, 747)\n",
      "Continent\n"
     ]
    },
    {
     "name": "stderr",
     "output_type": "stream",
     "text": [
      "1000it [00:08, 115.25it/s]"
     ]
    },
    {
     "name": "stdout",
     "output_type": "stream",
     "text": [
      "(517, 483)\n"
     ]
    },
    {
     "name": "stderr",
     "output_type": "stream",
     "text": [
      "\n"
     ]
    }
   ],
   "source": [
    "for type in types:\n",
    "    print(type)\n",
    "    print(checkResults(type))"
   ]
  }
 ],
 "metadata": {
  "kernelspec": {
   "display_name": "Python 3 (ipykernel)",
   "language": "python",
   "name": "python3"
  },
  "language_info": {
   "codemirror_mode": {
    "name": "ipython",
    "version": 3
   },
   "file_extension": ".py",
   "mimetype": "text/x-python",
   "name": "python",
   "nbconvert_exporter": "python",
   "pygments_lexer": "ipython3",
   "version": "3.10.4"
  }
 },
 "nbformat": 4,
 "nbformat_minor": 4
}
